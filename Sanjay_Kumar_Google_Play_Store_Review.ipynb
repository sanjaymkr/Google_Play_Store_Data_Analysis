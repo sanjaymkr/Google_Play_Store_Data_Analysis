{
  "nbformat": 4,
  "nbformat_minor": 0,
  "metadata": {
    "colab": {
      "name": "Sanjay_Kumar_Google_Play_Store_Review.ipynb",
      "provenance": [],
      "authorship_tag": "ABX9TyN6U2GqD515ImxW6kO6o1Fp",
      "include_colab_link": true
    },
    "kernelspec": {
      "name": "python3",
      "display_name": "Python 3"
    },
    "language_info": {
      "name": "python"
    }
  },
  "cells": [
    {
      "cell_type": "markdown",
      "metadata": {
        "id": "view-in-github",
        "colab_type": "text"
      },
      "source": [
        "<a href=\"https://colab.research.google.com/github/sanjaymkr/Google_Play_Store_Data_Analysis/blob/main/Sanjay_Kumar_Google_Play_Store_Review.ipynb\" target=\"_parent\"><img src=\"https://colab.research.google.com/assets/colab-badge.svg\" alt=\"Open In Colab\"/></a>"
      ]
    },
    {
      "cell_type": "code",
      "execution_count": null,
      "metadata": {
        "id": "ph-Bas2SxPQm"
      },
      "outputs": [],
      "source": [
        ""
      ]
    }
  ]
}